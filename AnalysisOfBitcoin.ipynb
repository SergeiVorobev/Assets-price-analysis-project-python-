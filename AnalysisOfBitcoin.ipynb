{
  "nbformat": 4,
  "nbformat_minor": 0,
  "metadata": {
    "colab": {
      "name": "AnalysisOfBitcoin.ipynb",
      "provenance": [],
      "collapsed_sections": []
    },
    "kernelspec": {
      "name": "python3",
      "display_name": "Python 3"
    }
  },
  "cells": [
    {
      "cell_type": "code",
      "metadata": {
        "id": "J--qIhsZgoOR",
        "colab_type": "code",
        "colab": {}
      },
      "source": [
        "import pandas as pd\n",
        "import operator as op\n",
        "import numpy as np\n",
        "from datetime import datetime\n",
        "from numpy.random import rand\n",
        "import operator as op\n",
        "import matplotlib.pyplot as plt\n",
        "plt.style.use('fivethirtyeight')"
      ],
      "execution_count": null,
      "outputs": []
    },
    {
      "cell_type": "code",
      "metadata": {
        "id": "b21lqiA1HqA4",
        "colab_type": "code",
        "colab": {
          "resources": {
            "http://localhost:8080/nbextensions/google.colab/files.js": {
              "data": "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",
              "ok": true,
              "headers": [
                [
                  "content-type",
                  "application/javascript"
                ]
              ],
              "status": 200,
              "status_text": ""
            }
          },
          "base_uri": "https://localhost:8080/",
          "height": 38
        },
        "outputId": "950adcec-6f81-43e1-b1cc-48767b775f22"
      },
      "source": [
        "# load the data  \n",
        "from google.colab import files\n",
        "uploaded = files.upload()"
      ],
      "execution_count": null,
      "outputs": [
        {
          "output_type": "display_data",
          "data": {
            "text/html": [
              "\n",
              "     <input type=\"file\" id=\"files-da784789-f7fe-4893-a90d-12002d59c596\" name=\"files[]\" multiple disabled\n",
              "        style=\"border:none\" />\n",
              "     <output id=\"result-da784789-f7fe-4893-a90d-12002d59c596\">\n",
              "      Upload widget is only available when the cell has been executed in the\n",
              "      current browser session. Please rerun this cell to enable.\n",
              "      </output>\n",
              "      <script src=\"/nbextensions/google.colab/files.js\"></script> "
            ],
            "text/plain": [
              "<IPython.core.display.HTML object>"
            ]
          },
          "metadata": {
            "tags": []
          }
        }
      ]
    },
    {
      "cell_type": "code",
      "metadata": {
        "id": "1RmfQzM1Z-Ev",
        "colab_type": "code",
        "colab": {}
      },
      "source": [
        "#Store the data\n",
        "BitcoinPrice = pd.read_csv('Binance_BTCUSDT.csv', header = 1)\n",
        "# # Add columns name\n",
        "# BitcoinPrice.rename(columns={0: 'Date', 1: 'Price'}, inplace=True)\n",
        "# BitcoinPrice.to_csv('BitcoinPrice.csv', index=False)\n",
        "# Show the data\n",
        "# BitcoinPrice.iloc[::-1]\n",
        "#  BitcoinPrice.reset_index(inplace=True) # Resets the index, makes factor a column\n",
        "BitcoinPrice.iloc[::-1].to_csv('Bitcoin.csv',index=False)\n",
        "BitcoinPrice = pd.read_csv('Bitcoin.csv')\n",
        "BitcoinPrice"
      ],
      "execution_count": null,
      "outputs": []
    },
    {
      "cell_type": "code",
      "metadata": {
        "id": "8CWex2vcan1O",
        "colab_type": "code",
        "colab": {}
      },
      "source": [
        "def graph():\n",
        "  # Visualize the data\n",
        "  plt.figure(figsize=(31, 15))\n",
        "  plt.plot(BitcoinPrice['Open'],label = 'Bitcoin Price')\n",
        "  plt.title('Bitcoin price history')\n",
        "  plt.xlabel('Aug. 17, 2017 - Aug. 08, 2020')\n",
        "  plt.ylabel('USD($)')\n",
        "  plt.legend(loc='upper left')\n",
        "  return(plt.show())\n",
        "graph()"
      ],
      "execution_count": null,
      "outputs": []
    },
    {
      "cell_type": "code",
      "metadata": {
        "id": "G6OMuUsJ1UPa",
        "colab_type": "code",
        "colab": {}
      },
      "source": [
        "# Create a new data frame with a simple moving 10-300 day average to store all the data\n",
        "def create_sma():\n",
        "  sma = create_dic(30)\n",
        "  data = pd.DataFrame()\n",
        "  data['Bitcoin Price'] = BitcoinPrice['Open']\n",
        "  for key in sma:\n",
        "    data[key] = BitcoinPrice['Open'].rolling(window=sma[key]).mean()\n",
        "  return(data)\n",
        "  \n",
        "def create_dic(n):\n",
        "  SMA ={}\n",
        "  for i in range(1,n+1):\n",
        "    sma = 'SMA'\n",
        "    sma += str(i*10)\n",
        "    SMA.update( {sma : i*10} )\n",
        "  return(SMA)\n",
        "\n",
        "create_sma()"
      ],
      "execution_count": null,
      "outputs": []
    },
    {
      "cell_type": "code",
      "metadata": {
        "id": "03qGSyH0icQ3",
        "colab_type": "code",
        "colab": {}
      },
      "source": [
        "def graph_sma(): \n",
        "  # Visualize the data\n",
        "  data = create_sma()\n",
        "  plt.figure(figsize=(31,15))\n",
        "  plt.plot(data['Bitcoin Price'],label = 'Bitcoin Price')\n",
        "  sma = create_dic(30)\n",
        "  number_of_plots = 30\n",
        "  for key in sma:\n",
        "    rgb = np.random.rand(3,)\n",
        "    plt.plot(data[key], label = key, c=rgb, linewidth=3)\n",
        "  plt.title('Bitcoin price history and SMA')\n",
        "  plt.xlabel('Aug. 17, 2017 - Aug. 08, 2020')\n",
        "  plt.ylabel('USD($)')\n",
        "  plt.legend(loc='upper left')\n",
        "  return(plt.show())\n",
        "graph_sma()"
      ],
      "execution_count": null,
      "outputs": []
    },
    {
      "cell_type": "code",
      "metadata": {
        "id": "ZVWeMkIf23YA",
        "colab_type": "code",
        "colab": {}
      },
      "source": [
        "def signals(sma1,sma2):\n",
        "  data = create_sma()\n",
        "  sigPriceBuy = []\n",
        "  sigPriceSell = []\n",
        "  flag = -1\n",
        "  for i in range(len(data)):\n",
        "    # if data[sma1].head(1) > data[sma2].head(1) and data[sma1].tail(1) < data[sma2].tail(1):\n",
        "    if data[sma1][i] > data[sma2][i]:\n",
        "      if flag != 1:\n",
        "        sigPriceBuy.append(data['Bitcoin Price'][i])\n",
        "        sigPriceSell.append(np.nan)\n",
        "        flag = 1\n",
        "      else:\n",
        "        sigPriceBuy.append(np.nan)\n",
        "        sigPriceSell.append(np.nan)\n",
        "    elif data[sma1][i] < data[sma2][i]:\n",
        "      if flag != 0:\n",
        "        sigPriceBuy.append(np.nan)\n",
        "        sigPriceSell.append(data['Bitcoin Price'][i])\n",
        "        flag = 0\n",
        "      else:\n",
        "        sigPriceBuy.append(np.nan)\n",
        "        sigPriceSell.append(np.nan)\n",
        "    else:\n",
        "      sigPriceBuy.append(np.nan)\n",
        "      sigPriceSell.append(np.nan)\n",
        "  return data, sigPriceBuy, sigPriceSell\n"
      ],
      "execution_count": null,
      "outputs": []
    },
    {
      "cell_type": "code",
      "metadata": {
        "id": "O7xJ3PvNclun",
        "colab_type": "code",
        "colab": {}
      },
      "source": [
        "def add_Buy_Sell(data,sma1,sma2):\n",
        "  data, data['Buy_signal_price'], data['Sell_signal_price']= signals(sma1,sma2)\n",
        "  # Droping Nan in two frames\n",
        "  df = pd.DataFrame(data['Buy_signal_price']) \n",
        "  dfBuy = df.dropna()\n",
        "  df2 = pd.DataFrame(data['Sell_signal_price']) \n",
        "  dfSell= df2.dropna()\n",
        "  b =[]\n",
        "  s = []\n",
        "  for row in dfBuy.index: \n",
        "    b.append(row) \n",
        "  for row in dfSell.index: \n",
        "    s.append(row) \n",
        "  bh = b[0]\n",
        "  sh = s[0]\n",
        "   \n",
        "  bt = b[len(b)-1]\n",
        "  st = s[len(s)-1]\n",
        "  # We drop the first sell operation and last buy operation\n",
        "  if sh < bh:\n",
        "    dfSell = dfSell.drop(sh)\n",
        "  if st < bt:\n",
        "    dfBuy = dfBuy.drop(bt)\n",
        "  data['Buy_signal_price'], data['Sell_signal_price'] = dfBuy, dfSell\n",
        "   # Concatenate the frames\n",
        "  Buy_Sell = pd.concat([dfBuy,dfSell])\n",
        "  # Sorting data\n",
        "  dataBS = Buy_Sell.sort_index() \n",
        "\n",
        "  return data, dfBuy, dfSell, dataBS"
      ],
      "execution_count": null,
      "outputs": []
    },
    {
      "cell_type": "code",
      "metadata": {
        "id": "PWMK2LULzs_2",
        "colab_type": "code",
        "colab": {}
      },
      "source": [
        "def algoprofit(sma1,sma2): \n",
        "  # Store the buy and sell data into a variable\n",
        "  # data, data['Buy_signal_price'], data['Sell_signal_price']= signals(sma1,sma2)\n",
        "  data, df, df2, dBS = add_Buy_Sell(create_sma(),sma1, sma2) \n",
        "  buy = df['Buy_signal_price'].sum()\n",
        "  sell = df2['Sell_signal_price'].sum()\n",
        "  result = sell - buy\n",
        "  return(result)  "
      ],
      "execution_count": null,
      "outputs": []
    },
    {
      "cell_type": "code",
      "metadata": {
        "id": "mG4vi9sVl0CJ",
        "colab_type": "code",
        "colab": {}
      },
      "source": [
        "def profit(sma1,sma2):\n",
        "  data, df, df2, dBS = add_Buy_Sell(create_sma(),sma1, sma2) \n",
        "  a = df['Buy_signal_price'].values[0]\n",
        "  b = df2['Sell_signal_price'].values[len(df2['Sell_signal_price']) - 1]\n",
        "  result = b - a \n",
        "  return result"
      ],
      "execution_count": null,
      "outputs": []
    },
    {
      "cell_type": "code",
      "metadata": {
        "id": "Fe1qe0rG49-s",
        "colab_type": "code",
        "colab": {}
      },
      "source": [
        "# Create a function to signal wen to buy and sell the asset\n",
        "def graph_smas(sma1,sma2):\n",
        "   #  Visualize the signals\n",
        "  print('\\n____________________________________________________________________________________________________________________________________________\\n\\n\\t\\t\\t\\tWith the paar: ', sma1, ' and ', sma2, ' we have next buy-sell signals in the graph below: \\n\\t')\n",
        "  data, df, df2, dBS = add_Buy_Sell(create_sma(),sma1, sma2) \n",
        "  plt.figure(figsize=(32, 15))\n",
        "  plt.plot(data['Bitcoin Price'], label = 'Bitcoin Price', alpha = 0.35)\n",
        "  plt.plot(data[sma1], label = sma1, alpha = 0.35)\n",
        "  plt.plot(data[sma2], label = sma2, alpha = 0.35)\n",
        "  plt.scatter(data.index, data['Buy_signal_price'], label = 'Buy', marker = '^', color = 'green')\n",
        "  plt.scatter(data.index, data['Sell_signal_price'], label = 'Sell', marker = 'v', color = 'red')\n",
        "  plt.title('Bitcoin_Buy_Sell_Signals')\n",
        "  plt.xlabel('Aug. 17, 2017 - Aug. 12, 2020')\n",
        "  plt.ylabel('USD($)')\n",
        "  plt.legend(loc='upper left')\n",
        "  plt.show()\n",
        "  print('\\n\\tHERE THE BUY-SELL TABLE :\\n\\n\\t',dBS)\n",
        "  text = 'THE PROFIT WITH'\n",
        "  print('\\n\\n\\t', text, sma1, ' AND ', sma2,' IS :', algoprofit(sma1,sma2))\n",
        "  print('\\n\\tWithout this algorythm the profit would be only :', profit(sma1,sma2))\n",
        "\n"
      ],
      "execution_count": null,
      "outputs": []
    },
    {
      "cell_type": "code",
      "metadata": {
        "id": "v5G6xbS1LL5b",
        "colab_type": "code",
        "colab": {}
      },
      "source": [
        "def main():\n",
        "  data = create_dic(30)\n",
        "  sig = []\n",
        "  prof_sma = {}\n",
        "  for key in data:\n",
        "    sig.append(key)\n",
        "  for i in range(len(sig)):\n",
        "    for j in range(len(sig)):  \n",
        "      if j > i and algoprofit(sig[i],sig[j]) > 0:\n",
        "        sign = sig[i]+sig[j]\n",
        "        val= algoprofit(sig[i],sig[j])\n",
        "        prof_sma.update({sign: val})\n",
        "  sorted_d = dict(sorted(prof_sma.items(), key=op.itemgetter(1),reverse=True))\n",
        "  print('\\n\\t\\t\\t\\tNEXT 5 SMAs CROSSING PRICE WILL GIVE US MAXIMUM PROFIT \\n')\n",
        "  print('\\n\\tIn the graphs below we will illustate these signals :\\n')\n",
        "\n",
        "  for a in list(sorted_d)[0:5]:\n",
        "    sig1 = ''\n",
        "    sig2 = ''\n",
        "    if len(a)<=10:\n",
        "      for k in list(a)[0:5]:\n",
        "        sig1+=k\n",
        "      for k in list(a)[5:10]:\n",
        "        sig2+=k\n",
        "    elif len(a) == 11:\n",
        "      for k in list(a)[0:5]:\n",
        "        sig1+=k\n",
        "      for k in list(a)[5:11]:\n",
        "        sig2+=k\n",
        "    else:\n",
        "      for k in list(a)[0:6]:\n",
        "        sig1+=k\n",
        "      for k in list(a)[6:12]:\n",
        "        sig2+=k\n",
        "    if a == 0:\n",
        "      print('THE MAXIMUM PROFIT WITH PRICE CROSSING OF ', sig1, 'AND' , sig2, ' :', str(sorted_d[a]).upper())\n",
        "    graph_smas(sig1,sig2)\n",
        "\n",
        "main()"
      ],
      "execution_count": null,
      "outputs": []
    }
  ]
}