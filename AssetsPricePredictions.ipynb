{
  "nbformat": 4,
  "nbformat_minor": 0,
  "metadata": {
    "colab": {
      "name": "AssetsPricePredictions.ipynb",
      "provenance": [],
      "authorship_tag": "ABX9TyObdafzgXVQABWEn0uBM7zF",
      "include_colab_link": true
    },
    "kernelspec": {
      "name": "python3",
      "display_name": "Python 3"
    }
  },
  "cells": [
    {
      "cell_type": "markdown",
      "metadata": {
        "id": "view-in-github",
        "colab_type": "text"
      },
      "source": [
        "<a href=\"https://colab.research.google.com/github/SergeiVorobev/Assets-price-analysis-project-python-/blob/master/AssetsPricePredictions.ipynb\" target=\"_parent\"><img src=\"https://colab.research.google.com/assets/colab-badge.svg\" alt=\"Open In Colab\"/></a>"
      ]
    },
    {
      "cell_type": "code",
      "metadata": {
        "id": "AT7tPtaf6fwu",
        "colab_type": "code",
        "colab": {}
      },
      "source": [
        "# Description: This program predicts the closing assets price using artifitial recurrent neural network \n",
        "#   called Long Sort Term Memory(LSTM) with the 60 day assets price.\n"
      ],
      "execution_count": null,
      "outputs": []
    },
    {
      "cell_type": "code",
      "metadata": {
        "id": "B61izWbRJvq0",
        "colab_type": "code",
        "colab": {}
      },
      "source": [
        "import math\n",
        "import pandas_datareader as prd\n",
        "import numpy as np\n",
        "import pandas as pd\n",
        "from sklearn.preprocessing import MinMaxScaler\n",
        "from keras.models import Sequential\n",
        "from keras.layers import Dense, LSTM\n",
        "import matplotlib.pyplot as plt\n",
        "plt.style.use('fivethirtyeight')"
      ],
      "execution_count": null,
      "outputs": []
    },
    {
      "cell_type": "code",
      "metadata": {
        "id": "LwriibXIK5iL",
        "colab_type": "code",
        "colab": {
          "base_uri": "https://localhost:8080/",
          "height": 450
        },
        "outputId": "f3ec45d1-6e9b-4b8c-e23d-85522811372b"
      },
      "source": [
        "# Get the price\n",
        "df = prd.DataReader('TSLA', data_source='yahoo', start='2014-01-01', end='2020-09-04')\n",
        "# Show the data\n",
        "df"
      ],
      "execution_count": null,
      "outputs": [
        {
          "output_type": "execute_result",
          "data": {
            "text/html": [
              "<div>\n",
              "<style scoped>\n",
              "    .dataframe tbody tr th:only-of-type {\n",
              "        vertical-align: middle;\n",
              "    }\n",
              "\n",
              "    .dataframe tbody tr th {\n",
              "        vertical-align: top;\n",
              "    }\n",
              "\n",
              "    .dataframe thead th {\n",
              "        text-align: right;\n",
              "    }\n",
              "</style>\n",
              "<table border=\"1\" class=\"dataframe\">\n",
              "  <thead>\n",
              "    <tr style=\"text-align: right;\">\n",
              "      <th></th>\n",
              "      <th>High</th>\n",
              "      <th>Low</th>\n",
              "      <th>Open</th>\n",
              "      <th>Close</th>\n",
              "      <th>Volume</th>\n",
              "      <th>Adj Close</th>\n",
              "    </tr>\n",
              "    <tr>\n",
              "      <th>Date</th>\n",
              "      <th></th>\n",
              "      <th></th>\n",
              "      <th></th>\n",
              "      <th></th>\n",
              "      <th></th>\n",
              "      <th></th>\n",
              "    </tr>\n",
              "  </thead>\n",
              "  <tbody>\n",
              "    <tr>\n",
              "      <th>2014-01-02</th>\n",
              "      <td>30.496000</td>\n",
              "      <td>29.309999</td>\n",
              "      <td>29.959999</td>\n",
              "      <td>30.020000</td>\n",
              "      <td>30942000.0</td>\n",
              "      <td>30.020000</td>\n",
              "    </tr>\n",
              "    <tr>\n",
              "      <th>2014-01-03</th>\n",
              "      <td>30.438000</td>\n",
              "      <td>29.719999</td>\n",
              "      <td>30.000000</td>\n",
              "      <td>29.912001</td>\n",
              "      <td>23475000.0</td>\n",
              "      <td>29.912001</td>\n",
              "    </tr>\n",
              "    <tr>\n",
              "      <th>2014-01-06</th>\n",
              "      <td>30.080000</td>\n",
              "      <td>29.048000</td>\n",
              "      <td>30.000000</td>\n",
              "      <td>29.400000</td>\n",
              "      <td>26805500.0</td>\n",
              "      <td>29.400000</td>\n",
              "    </tr>\n",
              "    <tr>\n",
              "      <th>2014-01-07</th>\n",
              "      <td>30.080000</td>\n",
              "      <td>29.049999</td>\n",
              "      <td>29.524000</td>\n",
              "      <td>29.872000</td>\n",
              "      <td>25170500.0</td>\n",
              "      <td>29.872000</td>\n",
              "    </tr>\n",
              "    <tr>\n",
              "      <th>2014-01-08</th>\n",
              "      <td>30.740000</td>\n",
              "      <td>29.752001</td>\n",
              "      <td>29.770000</td>\n",
              "      <td>30.256001</td>\n",
              "      <td>30816000.0</td>\n",
              "      <td>30.256001</td>\n",
              "    </tr>\n",
              "    <tr>\n",
              "      <th>...</th>\n",
              "      <td>...</td>\n",
              "      <td>...</td>\n",
              "      <td>...</td>\n",
              "      <td>...</td>\n",
              "      <td>...</td>\n",
              "      <td>...</td>\n",
              "    </tr>\n",
              "    <tr>\n",
              "      <th>2020-08-31</th>\n",
              "      <td>500.140015</td>\n",
              "      <td>440.109985</td>\n",
              "      <td>444.609985</td>\n",
              "      <td>498.320007</td>\n",
              "      <td>118374400.0</td>\n",
              "      <td>498.320007</td>\n",
              "    </tr>\n",
              "    <tr>\n",
              "      <th>2020-09-01</th>\n",
              "      <td>502.489990</td>\n",
              "      <td>470.510010</td>\n",
              "      <td>502.140015</td>\n",
              "      <td>475.049988</td>\n",
              "      <td>90119400.0</td>\n",
              "      <td>475.049988</td>\n",
              "    </tr>\n",
              "    <tr>\n",
              "      <th>2020-09-02</th>\n",
              "      <td>479.040009</td>\n",
              "      <td>405.119995</td>\n",
              "      <td>478.989990</td>\n",
              "      <td>447.369995</td>\n",
              "      <td>96176100.0</td>\n",
              "      <td>447.369995</td>\n",
              "    </tr>\n",
              "    <tr>\n",
              "      <th>2020-09-03</th>\n",
              "      <td>431.799988</td>\n",
              "      <td>402.000000</td>\n",
              "      <td>407.230011</td>\n",
              "      <td>407.000000</td>\n",
              "      <td>85937700.0</td>\n",
              "      <td>407.000000</td>\n",
              "    </tr>\n",
              "    <tr>\n",
              "      <th>2020-09-04</th>\n",
              "      <td>428.000000</td>\n",
              "      <td>372.049988</td>\n",
              "      <td>402.809998</td>\n",
              "      <td>418.320007</td>\n",
              "      <td>110321885.0</td>\n",
              "      <td>418.320007</td>\n",
              "    </tr>\n",
              "  </tbody>\n",
              "</table>\n",
              "<p>1682 rows × 6 columns</p>\n",
              "</div>"
            ],
            "text/plain": [
              "                  High         Low  ...       Volume   Adj Close\n",
              "Date                                ...                         \n",
              "2014-01-02   30.496000   29.309999  ...   30942000.0   30.020000\n",
              "2014-01-03   30.438000   29.719999  ...   23475000.0   29.912001\n",
              "2014-01-06   30.080000   29.048000  ...   26805500.0   29.400000\n",
              "2014-01-07   30.080000   29.049999  ...   25170500.0   29.872000\n",
              "2014-01-08   30.740000   29.752001  ...   30816000.0   30.256001\n",
              "...                ...         ...  ...          ...         ...\n",
              "2020-08-31  500.140015  440.109985  ...  118374400.0  498.320007\n",
              "2020-09-01  502.489990  470.510010  ...   90119400.0  475.049988\n",
              "2020-09-02  479.040009  405.119995  ...   96176100.0  447.369995\n",
              "2020-09-03  431.799988  402.000000  ...   85937700.0  407.000000\n",
              "2020-09-04  428.000000  372.049988  ...  110321885.0  418.320007\n",
              "\n",
              "[1682 rows x 6 columns]"
            ]
          },
          "metadata": {
            "tags": []
          },
          "execution_count": 51
        }
      ]
    },
    {
      "cell_type": "code",
      "metadata": {
        "id": "Xw6pPQXYzuQS",
        "colab_type": "code",
        "colab": {
          "base_uri": "https://localhost:8080/",
          "height": 34
        },
        "outputId": "62b9df16-d227-4971-815f-6fe42d14166b"
      },
      "source": [
        "# Get the number of rows and columns in tehe data\n",
        "df.shape"
      ],
      "execution_count": null,
      "outputs": [
        {
          "output_type": "execute_result",
          "data": {
            "text/plain": [
              "(1682, 6)"
            ]
          },
          "metadata": {
            "tags": []
          },
          "execution_count": 52
        }
      ]
    },
    {
      "cell_type": "code",
      "metadata": {
        "id": "iCBKVLLlWEmq",
        "colab_type": "code",
        "colab": {
          "base_uri": "https://localhost:8080/",
          "height": 558
        },
        "outputId": "9eaa280a-fcea-4172-9363-360c672ef63e"
      },
      "source": [
        "# Visualize the closing price history\n",
        "plt.figure(figsize=(16,8))\n",
        "plt.title(\"Close Price History\")\n",
        "plt.plot(df['Close'])\n",
        "plt.xlabel('Date', fontsize=18)\n",
        "plt.ylabel('Close Price USD ($)', fontsize=18)\n",
        "plt.show()"
      ],
      "execution_count": null,
      "outputs": [
        {
          "output_type": "display_data",
          "data": {
            "image/png": "[encoded data removed]",
            "text/plain": [
              "<Figure size 1152x576 with 1 Axes>"
            ]
          },
          "metadata": {
            "tags": []
          }
        }
      ]
    },
    {
      "cell_type": "code",
      "metadata": {
        "id": "EpnzBEWLX62n",
        "colab_type": "code",
        "colab": {
          "base_uri": "https://localhost:8080/",
          "height": 34
        },
        "outputId": "691a7b5e-f070-4293-c2c6-49204c3cc956"
      },
      "source": [
        "# Create a new dataframe with only the  'Close' column\n",
        "data = df.filter(['Close'])\n",
        "# Convert the dataframe to a numpy array\n",
        "dataset = data.values\n",
        "# Get the number of rows to the train the model on\n",
        "training_data_len = math.ceil(len(dataset) * .8 )\n",
        "training_data_len"
      ],
      "execution_count": null,
      "outputs": [
        {
          "output_type": "execute_result",
          "data": {
            "text/plain": [
              "1346"
            ]
          },
          "metadata": {
            "tags": []
          },
          "execution_count": 54
        }
      ]
    },
    {
      "cell_type": "code",
      "metadata": {
        "id": "NVSFKlJ_bLGA",
        "colab_type": "code",
        "colab": {
          "base_uri": "https://localhost:8080/",
          "height": 136
        },
        "outputId": "be139238-d393-47d1-f234-8815b81acc3f"
      },
      "source": [
        "# Scale the data\n",
        "scaler = MinMaxScaler(feature_range=(0,1))\n",
        "scaled_data = scaler.fit_transform(dataset)\n",
        "\n",
        "scaled_data"
      ],
      "execution_count": null,
      "outputs": [
        {
          "output_type": "execute_result",
          "data": {
            "text/plain": [
              "array([[0.00457433],\n",
              "       [0.00434476],\n",
              "       [0.00325644],\n",
              "       ...,\n",
              "       [0.89169987],\n",
              "       [0.80588879],\n",
              "       [0.82995077]])"
            ]
          },
          "metadata": {
            "tags": []
          },
          "execution_count": 55
        }
      ]
    },
    {
      "cell_type": "code",
      "metadata": {
        "id": "AGOcQZtvcUkx",
        "colab_type": "code",
        "colab": {
          "base_uri": "https://localhost:8080/",
          "height": 680
        },
        "outputId": "4ff36a07-63a6-4c4e-fd22-101c16298993"
      },
      "source": [
        "# Create the training data set\n",
        "# Create the scaler training data set\n",
        "train_data =scaled_data[0:training_data_len, :]\n",
        "# Split the data into x_train and y_train data sets\n",
        "x_train = []\n",
        "y_train = []\n",
        "\n",
        "for i in range(60,len(train_data)):\n",
        "  x_train.append(train_data[i-60:i, 0])\n",
        "  y_train.append(train_data[i, 0])\n",
        "\n",
        "  if i <= 61:\n",
        "    print(x_train)\n",
        "    print(y_train)\n",
        "    print()"
      ],
      "execution_count": null,
      "outputs": [
        {
          "output_type": "stream",
          "text": [
            "[array([0.00457433, 0.00434476, 0.00325644, 0.00425973, 0.00507597,\n",
            "       0.00348176, 0.00271228, 0.        , 0.00932295, 0.0105388 ,\n",
            "       0.01344664, 0.01303852, 0.01587409, 0.01667333, 0.01792319,\n",
            "       0.01498984, 0.01287273, 0.0165968 , 0.01525767, 0.01849286,\n",
            "       0.01788493, 0.0160569 , 0.01674559, 0.01491331, 0.0165968 ,\n",
            "       0.02006156, 0.02432554, 0.02435105, 0.02379839, 0.02563067,\n",
            "       0.0250355 , 0.02736092, 0.02308418, 0.03002644, 0.02986914,\n",
            "       0.03329138, 0.04619387, 0.04831948, 0.04812393, 0.04483773,\n",
            "       0.04728219, 0.04910171, 0.04817495, 0.04829398, 0.0454329 ,\n",
            "       0.04229975, 0.04041645, 0.04342632, 0.04185336, 0.03895403,\n",
            "       0.04023365, 0.04280989, 0.04102437, 0.04062901, 0.03806977,\n",
            "       0.0343627 , 0.03447748, 0.03129756, 0.02889987, 0.03104674])]\n",
            "[0.02938025214453467]\n",
            "\n",
            "[array([0.00457433, 0.00434476, 0.00325644, 0.00425973, 0.00507597,\n",
            "       0.00348176, 0.00271228, 0.        , 0.00932295, 0.0105388 ,\n",
            "       0.01344664, 0.01303852, 0.01587409, 0.01667333, 0.01792319,\n",
            "       0.01498984, 0.01287273, 0.0165968 , 0.01525767, 0.01849286,\n",
            "       0.01788493, 0.0160569 , 0.01674559, 0.01491331, 0.0165968 ,\n",
            "       0.02006156, 0.02432554, 0.02435105, 0.02379839, 0.02563067,\n",
            "       0.0250355 , 0.02736092, 0.02308418, 0.03002644, 0.02986914,\n",
            "       0.03329138, 0.04619387, 0.04831948, 0.04812393, 0.04483773,\n",
            "       0.04728219, 0.04910171, 0.04817495, 0.04829398, 0.0454329 ,\n",
            "       0.04229975, 0.04041645, 0.04342632, 0.04185336, 0.03895403,\n",
            "       0.04023365, 0.04280989, 0.04102437, 0.04062901, 0.03806977,\n",
            "       0.0343627 , 0.03447748, 0.03129756, 0.02889987, 0.03104674]), array([0.00434476, 0.00325644, 0.00425973, 0.00507597, 0.00348176,\n",
            "       0.00271228, 0.        , 0.00932295, 0.0105388 , 0.01344664,\n",
            "       0.01303852, 0.01587409, 0.01667333, 0.01792319, 0.01498984,\n",
            "       0.01287273, 0.0165968 , 0.01525767, 0.01849286, 0.01788493,\n",
            "       0.0160569 , 0.01674559, 0.01491331, 0.0165968 , 0.02006156,\n",
            "       0.02432554, 0.02435105, 0.02379839, 0.02563067, 0.0250355 ,\n",
            "       0.02736092, 0.02308418, 0.03002644, 0.02986914, 0.03329138,\n",
            "       0.04619387, 0.04831948, 0.04812393, 0.04483773, 0.04728219,\n",
            "       0.04910171, 0.04817495, 0.04829398, 0.0454329 , 0.04229975,\n",
            "       0.04041645, 0.04342632, 0.04185336, 0.03895403, 0.04023365,\n",
            "       0.04280989, 0.04102437, 0.04062901, 0.03806977, 0.0343627 ,\n",
            "       0.03447748, 0.03129756, 0.02889987, 0.03104674, 0.02938025])]\n",
            "[0.02938025214453467, 0.03300230573119796]\n",
            "\n"
          ],
          "name": "stdout"
        }
      ]
    },
    {
      "cell_type": "code",
      "metadata": {
        "id": "-0GXHpoQA6_Q",
        "colab_type": "code",
        "colab": {}
      },
      "source": [
        "# Convert the x_train and y_train to numpy arrays\n",
        "x_train, y_train = np.array(x_train), np.array(y_train)"
      ],
      "execution_count": null,
      "outputs": []
    },
    {
      "cell_type": "code",
      "metadata": {
        "id": "UNM9W_PfBR-z",
        "colab_type": "code",
        "colab": {
          "base_uri": "https://localhost:8080/",
          "height": 34
        },
        "outputId": "f1e27363-943b-41a0-f42f-e890d8a743fa"
      },
      "source": [
        "# Reshape the data\n",
        "x_train = np.reshape(x_train, (x_train.shape[0], x_train.shape[1], 1))\n",
        "x_train.shape"
      ],
      "execution_count": null,
      "outputs": [
        {
          "output_type": "execute_result",
          "data": {
            "text/plain": [
              "(1286, 60, 1)"
            ]
          },
          "metadata": {
            "tags": []
          },
          "execution_count": 58
        }
      ]
    },
    {
      "cell_type": "code",
      "metadata": {
        "id": "xnBtTsLGepl9",
        "colab_type": "code",
        "colab": {}
      },
      "source": [
        "# Built the LSTM model\n",
        "model = Sequential()\n",
        "model.add(LSTM(50, return_sequences=True, input_shape=(x_train.shape[1], 1)))\n",
        "model.add(LSTM(50, return_sequences=False))\n",
        "model.add(Dense(25))\n",
        "model.add(Dense(1))\n"
      ],
      "execution_count": null,
      "outputs": []
    },
    {
      "cell_type": "code",
      "metadata": {
        "id": "e2-V-jWHgDe4",
        "colab_type": "code",
        "colab": {}
      },
      "source": [
        "# Compile the model\n",
        "model.compile(optimizer='adam', loss='mean_squared_error')\n"
      ],
      "execution_count": null,
      "outputs": []
    },
    {
      "cell_type": "code",
      "metadata": {
        "id": "FPQ3XGzqhKQB",
        "colab_type": "code",
        "colab": {
          "base_uri": "https://localhost:8080/",
          "height": 51
        },
        "outputId": "06f5e4b6-5d1d-44ef-a7db-f1becf6eac96"
      },
      "source": [
        "# Train the model\n",
        "model.fit(x_train, y_train, batch_size=1, epochs=1)"
      ],
      "execution_count": null,
      "outputs": [
        {
          "output_type": "stream",
          "text": [
            "1286/1286 [==============================] - 26s 20ms/step - loss: 7.9075e-05\n"
          ],
          "name": "stdout"
        },
        {
          "output_type": "execute_result",
          "data": {
            "text/plain": [
              "<tensorflow.python.keras.callbacks.History at 0x7f8a771ae550>"
            ]
          },
          "metadata": {
            "tags": []
          },
          "execution_count": 61
        }
      ]
    },
    {
      "cell_type": "code",
      "metadata": {
        "id": "St5x1zzNhiFe",
        "colab_type": "code",
        "colab": {}
      },
      "source": [
        "# Create the testing data set\n",
        "# Create a new array containing scaled values from index 1286 to 1586\n",
        "test_data = scaled_data[training_data_len - 60:, :]\n",
        "# Create the data sets x_test and y_test\n",
        "x_test = []\n",
        "y_test = dataset[training_data_len:, :]\n",
        "for i in range(60,len(test_data)):\n",
        "  x_test.append(test_data[i-60:i, 0])\n"
      ],
      "execution_count": null,
      "outputs": []
    },
    {
      "cell_type": "code",
      "metadata": {
        "id": "Vz3plSHPjUpc",
        "colab_type": "code",
        "colab": {}
      },
      "source": [
        "# Convert the data to a numpy array\n",
        "x_test = np.array(x_test)\n"
      ],
      "execution_count": null,
      "outputs": []
    },
    {
      "cell_type": "code",
      "metadata": {
        "id": "ClmgpBArjfgS",
        "colab_type": "code",
        "colab": {}
      },
      "source": [
        "# Reshape the data\n",
        "x_test = np.reshape(x_test, (x_test.shape[0], x_test.shape[1], 1))"
      ],
      "execution_count": null,
      "outputs": []
    },
    {
      "cell_type": "code",
      "metadata": {
        "id": "2wcRI88zj2ZG",
        "colab_type": "code",
        "colab": {}
      },
      "source": [
        "# Get the models predicted values\n",
        "predictions = model.predict(x_test)\n",
        "predictions = scaler.inverse_transform(predictions)  "
      ],
      "execution_count": null,
      "outputs": []
    },
    {
      "cell_type": "code",
      "metadata": {
        "id": "wSv7MzGtnn3Z",
        "colab_type": "code",
        "colab": {
          "base_uri": "https://localhost:8080/",
          "height": 34
        },
        "outputId": "b78f8334-fb1c-45d1-9d9d-e519cb5878af"
      },
      "source": [
        "# Get the root mean squared error (RMSE)\n",
        "rmse = np.sqrt(np.mean(predictions - y_test)**2)\n",
        "rmse"
      ],
      "execution_count": null,
      "outputs": [
        {
          "output_type": "execute_result",
          "data": {
            "text/plain": [
              "11.480655057089669"
            ]
          },
          "metadata": {
            "tags": []
          },
          "execution_count": 66
        }
      ]
    },
    {
      "cell_type": "code",
      "metadata": {
        "id": "U4rIQP_8yIJf",
        "colab_type": "code",
        "colab": {
          "base_uri": "https://localhost:8080/",
          "height": 660
        },
        "outputId": "934384e3-6ad4-46bb-eece-04f72df0a0dc"
      },
      "source": [
        "# Plot the data\n",
        "train = data[:training_data_len]\n",
        "valid = data[training_data_len:]\n",
        "valid['Predictions'] = predictions\n",
        "# Visualize the data\n",
        "plt.figure(figsize=(16,8))\n",
        "plt.title('Model')\n",
        "plt.xlabel('Date', fontsize=18)\n",
        "plt.ylabel('Close Price USD($)', fontsize=18)\n",
        "plt.plot(train['Close'])\n",
        "plt.plot(valid[['Close', 'Predictions']])\n",
        "plt.legend(['Train', 'Val', 'Predictions'], loc='lower right')\n",
        "plt.show()\n"
      ],
      "execution_count": null,
      "outputs": [
        {
          "output_type": "stream",
          "text": [
            "/usr/local/lib/python3.6/dist-packages/ipykernel_launcher.py:4: SettingWithCopyWarning: \n",
            "A value is trying to be set on a copy of a slice from a DataFrame.\n",
            "Try using .loc[row_indexer,col_indexer] = value instead\n",
            "\n",
            "See the caveats in the documentation: https://pandas.pydata.org/pandas-docs/stable/user_guide/indexing.html#returning-a-view-versus-a-copy\n",
            "  after removing the cwd from sys.path.\n"
          ],
          "name": "stderr"
        },
        {
          "output_type": "display_data",
          "data": {
            "image/png": "[encoded data removed]",
            "text/plain": [
              "<Figure size 1152x576 with 1 Axes>"
            ]
          },
          "metadata": {
            "tags": []
          }
        }
      ]
    },
    {
      "cell_type": "code",
      "metadata": {
        "id": "CLjM_STAzwlM",
        "colab_type": "code",
        "colab": {
          "base_uri": "https://localhost:8080/",
          "height": 450
        },
        "outputId": "cf4bccdc-3495-4497-893c-aed0d875c9ed"
      },
      "source": [
        "# Show the valid and predicted prices\n",
        "valid"
      ],
      "execution_count": null,
      "outputs": [
        {
          "output_type": "execute_result",
          "data": {
            "text/html": [
              "<div>\n",
              "<style scoped>\n",
              "    .dataframe tbody tr th:only-of-type {\n",
              "        vertical-align: middle;\n",
              "    }\n",
              "\n",
              "    .dataframe tbody tr th {\n",
              "        vertical-align: top;\n",
              "    }\n",
              "\n",
              "    .dataframe thead th {\n",
              "        text-align: right;\n",
              "    }\n",
              "</style>\n",
              "<table border=\"1\" class=\"dataframe\">\n",
              "  <thead>\n",
              "    <tr style=\"text-align: right;\">\n",
              "      <th></th>\n",
              "      <th>Close</th>\n",
              "      <th>Predictions</th>\n",
              "    </tr>\n",
              "    <tr>\n",
              "      <th>Date</th>\n",
              "      <th></th>\n",
              "      <th></th>\n",
              "    </tr>\n",
              "  </thead>\n",
              "  <tbody>\n",
              "    <tr>\n",
              "      <th>2019-05-09</th>\n",
              "      <td>48.396000</td>\n",
              "      <td>47.976673</td>\n",
              "    </tr>\n",
              "    <tr>\n",
              "      <th>2019-05-10</th>\n",
              "      <td>47.903999</td>\n",
              "      <td>47.731228</td>\n",
              "    </tr>\n",
              "    <tr>\n",
              "      <th>2019-05-13</th>\n",
              "      <td>45.402000</td>\n",
              "      <td>47.300079</td>\n",
              "    </tr>\n",
              "    <tr>\n",
              "      <th>2019-05-14</th>\n",
              "      <td>46.462002</td>\n",
              "      <td>46.395771</td>\n",
              "    </tr>\n",
              "    <tr>\n",
              "      <th>2019-05-15</th>\n",
              "      <td>46.389999</td>\n",
              "      <td>45.656109</td>\n",
              "    </tr>\n",
              "    <tr>\n",
              "      <th>...</th>\n",
              "      <td>...</td>\n",
              "      <td>...</td>\n",
              "    </tr>\n",
              "    <tr>\n",
              "      <th>2020-08-31</th>\n",
              "      <td>498.320007</td>\n",
              "      <td>383.897003</td>\n",
              "    </tr>\n",
              "    <tr>\n",
              "      <th>2020-09-01</th>\n",
              "      <td>475.049988</td>\n",
              "      <td>398.579071</td>\n",
              "    </tr>\n",
              "    <tr>\n",
              "      <th>2020-09-02</th>\n",
              "      <td>447.369995</td>\n",
              "      <td>408.931274</td>\n",
              "    </tr>\n",
              "    <tr>\n",
              "      <th>2020-09-03</th>\n",
              "      <td>407.000000</td>\n",
              "      <td>410.394531</td>\n",
              "    </tr>\n",
              "    <tr>\n",
              "      <th>2020-09-04</th>\n",
              "      <td>418.320007</td>\n",
              "      <td>400.556976</td>\n",
              "    </tr>\n",
              "  </tbody>\n",
              "</table>\n",
              "<p>336 rows × 2 columns</p>\n",
              "</div>"
            ],
            "text/plain": [
              "                 Close  Predictions\n",
              "Date                               \n",
              "2019-05-09   48.396000    47.976673\n",
              "2019-05-10   47.903999    47.731228\n",
              "2019-05-13   45.402000    47.300079\n",
              "2019-05-14   46.462002    46.395771\n",
              "2019-05-15   46.389999    45.656109\n",
              "...                ...          ...\n",
              "2020-08-31  498.320007   383.897003\n",
              "2020-09-01  475.049988   398.579071\n",
              "2020-09-02  447.369995   408.931274\n",
              "2020-09-03  407.000000   410.394531\n",
              "2020-09-04  418.320007   400.556976\n",
              "\n",
              "[336 rows x 2 columns]"
            ]
          },
          "metadata": {
            "tags": []
          },
          "execution_count": 68
        }
      ]
    },
    {
      "cell_type": "code",
      "metadata": {
        "id": "5j8N-qId0DHE",
        "colab_type": "code",
        "colab": {
          "base_uri": "https://localhost:8080/",
          "height": 34
        },
        "outputId": "3fea956f-6824-4682-c0e0-2b040bea5b32"
      },
      "source": [
        "# Get the quote\n",
        "tsla_quote = prd.DataReader('TSLA', data_source='yahoo', start='2012-01-01', end='2020-09-03')\n",
        "# Create a new dataframe\n",
        "new_df = tsla_quote.filter(['Close'])\n",
        "# GEt the last 60 day closing values and convert the dataframe to an array\n",
        "last_60_days = new_df[-60:].values\n",
        "# Scale the data to be values between 0 and 1\n",
        "last_60_days_scaled = scaler.transform(last_60_days)\n",
        "# Create an empty list\n",
        "X_test = []\n",
        "# Append the past 60 days\n",
        "X_test.append(last_60_days_scaled)\n",
        "# Convert the X_test data set to a numpy array\n",
        "X_test = np.array(X_test)\n",
        "# Reshape the data\n",
        "X_test = np.reshape(X_test, (X_test.shape[0], X_test.shape[1],1))\n",
        "# Get the predicted scaled price\n",
        "pred_price = model.predict(X_test)\n",
        "# undo the scaling\n",
        "pred_price = scaler.inverse_transform(pred_price)\n",
        "print(pred_price)"
      ],
      "execution_count": null,
      "outputs": [
        {
          "output_type": "stream",
          "text": [
            "[[400.55698]]\n"
          ],
          "name": "stdout"
        }
      ]
    },
    {
      "cell_type": "code",
      "metadata": {
        "id": "owB-ZOS94joi",
        "colab_type": "code",
        "colab": {
          "base_uri": "https://localhost:8080/",
          "height": 85
        },
        "outputId": "62679e32-f2db-4f48-cd57-211a77de6017"
      },
      "source": [
        "# Get the quote\n",
        "tsla_quote2 = prd.DataReader('TSLA', data_source='yahoo', start='2020-09-03', end='2020-09-04')\n",
        "print(tsla_quote2['Close'])"
      ],
      "execution_count": null,
      "outputs": [
        {
          "output_type": "stream",
          "text": [
            "Date\n",
            "2020-09-03    407.000000\n",
            "2020-09-04    418.320007\n",
            "Name: Close, dtype: float64\n"
          ],
          "name": "stdout"
        }
      ]
    }
  ]
}